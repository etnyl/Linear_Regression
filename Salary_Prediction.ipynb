{
 "cells": [
  {
   "cell_type": "code",
   "execution_count": 1,
   "metadata": {},
   "outputs": [],
   "source": [
    "#importing necessary libraries\n",
    "import numpy as np \n",
    "import pandas as pd\n",
    "import matplotlib.pyplot as plt\n",
    "import seaborn as sns\n",
    "\n",
    "import warnings\n",
    "# ignore warnings\n",
    "warnings.filterwarnings(\"ignore\")"
   ]
  },
  {
   "cell_type": "code",
   "execution_count": 2,
   "metadata": {},
   "outputs": [
    {
     "data": {
      "text/html": [
       "<div>\n",
       "<style scoped>\n",
       "    .dataframe tbody tr th:only-of-type {\n",
       "        vertical-align: middle;\n",
       "    }\n",
       "\n",
       "    .dataframe tbody tr th {\n",
       "        vertical-align: top;\n",
       "    }\n",
       "\n",
       "    .dataframe thead th {\n",
       "        text-align: right;\n",
       "    }\n",
       "</style>\n",
       "<table border=\"1\" class=\"dataframe\">\n",
       "  <thead>\n",
       "    <tr style=\"text-align: right;\">\n",
       "      <th></th>\n",
       "      <th>Age</th>\n",
       "      <th>Gender</th>\n",
       "      <th>Education Level</th>\n",
       "      <th>Job Title</th>\n",
       "      <th>Years of Experience</th>\n",
       "      <th>Salary</th>\n",
       "    </tr>\n",
       "  </thead>\n",
       "  <tbody>\n",
       "    <tr>\n",
       "      <th>0</th>\n",
       "      <td>32.0</td>\n",
       "      <td>Male</td>\n",
       "      <td>Bachelor's</td>\n",
       "      <td>Software Engineer</td>\n",
       "      <td>5.0</td>\n",
       "      <td>90000.0</td>\n",
       "    </tr>\n",
       "    <tr>\n",
       "      <th>1</th>\n",
       "      <td>28.0</td>\n",
       "      <td>Female</td>\n",
       "      <td>Master's</td>\n",
       "      <td>Data Analyst</td>\n",
       "      <td>3.0</td>\n",
       "      <td>65000.0</td>\n",
       "    </tr>\n",
       "    <tr>\n",
       "      <th>2</th>\n",
       "      <td>45.0</td>\n",
       "      <td>Male</td>\n",
       "      <td>PhD</td>\n",
       "      <td>Senior Manager</td>\n",
       "      <td>15.0</td>\n",
       "      <td>150000.0</td>\n",
       "    </tr>\n",
       "    <tr>\n",
       "      <th>3</th>\n",
       "      <td>36.0</td>\n",
       "      <td>Female</td>\n",
       "      <td>Bachelor's</td>\n",
       "      <td>Sales Associate</td>\n",
       "      <td>7.0</td>\n",
       "      <td>60000.0</td>\n",
       "    </tr>\n",
       "    <tr>\n",
       "      <th>4</th>\n",
       "      <td>52.0</td>\n",
       "      <td>Male</td>\n",
       "      <td>Master's</td>\n",
       "      <td>Director</td>\n",
       "      <td>20.0</td>\n",
       "      <td>200000.0</td>\n",
       "    </tr>\n",
       "  </tbody>\n",
       "</table>\n",
       "</div>"
      ],
      "text/plain": [
       "    Age  Gender Education Level          Job Title  Years of Experience  \\\n",
       "0  32.0    Male      Bachelor's  Software Engineer                  5.0   \n",
       "1  28.0  Female        Master's       Data Analyst                  3.0   \n",
       "2  45.0    Male             PhD     Senior Manager                 15.0   \n",
       "3  36.0  Female      Bachelor's    Sales Associate                  7.0   \n",
       "4  52.0    Male        Master's           Director                 20.0   \n",
       "\n",
       "     Salary  \n",
       "0   90000.0  \n",
       "1   65000.0  \n",
       "2  150000.0  \n",
       "3   60000.0  \n",
       "4  200000.0  "
      ]
     },
     "execution_count": 2,
     "metadata": {},
     "output_type": "execute_result"
    }
   ],
   "source": [
    "df = pd.read_csv(r\"C:\\Salary_prediction\\Salary_Data.csv\")\n",
    "df.head()"
   ]
  },
  {
   "cell_type": "code",
   "execution_count": 3,
   "metadata": {},
   "outputs": [
    {
     "data": {
      "text/plain": [
       "6704"
      ]
     },
     "execution_count": 3,
     "metadata": {},
     "output_type": "execute_result"
    }
   ],
   "source": [
    "len(df)"
   ]
  },
  {
   "cell_type": "code",
   "execution_count": 4,
   "metadata": {},
   "outputs": [
    {
     "name": "stdout",
     "output_type": "stream",
     "text": [
      "<class 'pandas.core.frame.DataFrame'>\n",
      "RangeIndex: 6704 entries, 0 to 6703\n",
      "Data columns (total 6 columns):\n",
      " #   Column               Non-Null Count  Dtype  \n",
      "---  ------               --------------  -----  \n",
      " 0   Age                  6702 non-null   float64\n",
      " 1   Gender               6702 non-null   object \n",
      " 2   Education Level      6701 non-null   object \n",
      " 3   Job Title            6702 non-null   object \n",
      " 4   Years of Experience  6701 non-null   float64\n",
      " 5   Salary               6699 non-null   float64\n",
      "dtypes: float64(3), object(3)\n",
      "memory usage: 314.4+ KB\n"
     ]
    }
   ],
   "source": [
    "df.info()"
   ]
  },
  {
   "cell_type": "code",
   "execution_count": 5,
   "metadata": {},
   "outputs": [
    {
     "name": "stdout",
     "output_type": "stream",
     "text": [
      "Age                    2\n",
      "Gender                 2\n",
      "Education Level        3\n",
      "Job Title              2\n",
      "Years of Experience    3\n",
      "Salary                 5\n",
      "dtype: int64\n"
     ]
    }
   ],
   "source": [
    "# Check for missing values in each column\n",
    "missing_counts = df.isnull().sum()\n",
    "\n",
    "# Display the missing values in each column\n",
    "print(missing_counts)"
   ]
  },
  {
   "cell_type": "code",
   "execution_count": 6,
   "metadata": {},
   "outputs": [],
   "source": [
    "# Drop rows containing null values\n",
    "df.dropna(inplace=True)"
   ]
  },
  {
   "cell_type": "code",
   "execution_count": 7,
   "metadata": {},
   "outputs": [
    {
     "name": "stdout",
     "output_type": "stream",
     "text": [
      "<class 'pandas.core.frame.DataFrame'>\n",
      "Index: 6698 entries, 0 to 6703\n",
      "Data columns (total 6 columns):\n",
      " #   Column               Non-Null Count  Dtype  \n",
      "---  ------               --------------  -----  \n",
      " 0   Age                  6698 non-null   float64\n",
      " 1   Gender               6698 non-null   object \n",
      " 2   Education Level      6698 non-null   object \n",
      " 3   Job Title            6698 non-null   object \n",
      " 4   Years of Experience  6698 non-null   float64\n",
      " 5   Salary               6698 non-null   float64\n",
      "dtypes: float64(3), object(3)\n",
      "memory usage: 366.3+ KB\n"
     ]
    },
    {
     "data": {
      "text/plain": [
       "(None, 6698)"
      ]
     },
     "execution_count": 7,
     "metadata": {},
     "output_type": "execute_result"
    }
   ],
   "source": [
    "df.info() , len(df)"
   ]
  },
  {
   "cell_type": "code",
   "execution_count": 8,
   "metadata": {},
   "outputs": [
    {
     "data": {
      "text/plain": [
       "Gender\n",
       "Male      3671\n",
       "Female    3013\n",
       "Other       14\n",
       "Name: count, dtype: int64"
      ]
     },
     "execution_count": 8,
     "metadata": {},
     "output_type": "execute_result"
    }
   ],
   "source": [
    "# Calculate the total count of each gender\n",
    "gender_counts = df['Gender'].value_counts()\n",
    "gender_counts"
   ]
  },
  {
   "cell_type": "code",
   "execution_count": 9,
   "metadata": {},
   "outputs": [],
   "source": [
    "#drop 'other' gender /There is no way how to say that certaion person in Gender other belongs to Male or Female. \n",
    "df.drop((df[df['Gender']=='Other']).index, inplace = True)"
   ]
  },
  {
   "cell_type": "code",
   "execution_count": 10,
   "metadata": {},
   "outputs": [
    {
     "data": {
      "text/plain": [
       "Gender\n",
       "Male      3671\n",
       "Female    3013\n",
       "Name: count, dtype: int64"
      ]
     },
     "execution_count": 10,
     "metadata": {},
     "output_type": "execute_result"
    }
   ],
   "source": [
    "# Calculate the total count of each gender again after dropping 'other'\n",
    "gender_counts = df['Gender'].value_counts()\n",
    "gender_counts"
   ]
  },
  {
   "cell_type": "code",
   "execution_count": 11,
   "metadata": {},
   "outputs": [
    {
     "data": {
      "image/png": "[encoded data removed]",
      "text/plain": [
       "<Figure size 600x400 with 1 Axes>"
      ]
     },
     "metadata": {},
     "output_type": "display_data"
    }
   ],
   "source": [
    "# Choose a Seaborn color palette\n",
    "color_palette = 'Blues_r'\n",
    "\n",
    "# Set Seaborn style\n",
    "sns.set_style('whitegrid')\n",
    "\n",
    "# Create a vertical bar plot with the chosen color palette\n",
    "plt.figure(figsize=(6, 4))\n",
    "sns.barplot(x=gender_counts.index, y=gender_counts.values, palette=color_palette)\n",
    "plt.xlabel('Gender')\n",
    "plt.ylabel('Total Count')\n",
    "plt.title('Distribution of Gender Counts')\n",
    "plt.tight_layout()\n",
    "plt.show()\n"
   ]
  },
  {
   "cell_type": "code",
   "execution_count": 18,
   "metadata": {},
   "outputs": [
    {
     "data": {
      "image/png": "[encoded data removed]",
      "text/plain": [
       "<Figure size 600x400 with 1 Axes>"
      ]
     },
     "metadata": {},
     "output_type": "display_data"
    }
   ],
   "source": [
    "import matplotlib.pyplot as plt\n",
    "import seaborn as sns\n",
    "\n",
    "# Seaborn color palette selection - pastel tones of blue and pink\n",
    "color_palette = ['#008ECC', '#FFB6C1']\n",
    "\n",
    "# Set Seaborn style\n",
    "sns.set_style('whitegrid')\n",
    "\n",
    "# Create a vertical bar plot using the chosen color palette\n",
    "plt.figure(figsize=(6, 4))\n",
    "sns.barplot(x=gender_counts.index, y=gender_counts.values, palette=color_palette)\n",
    "plt.xlabel('Gender')\n",
    "plt.ylabel('Total Count')\n",
    "plt.title('Distribution of Gender Counts')\n",
    "plt.tight_layout()\n",
    "plt.show()\n",
    "\n"
   ]
  },
  {
   "cell_type": "code",
   "execution_count": 19,
   "metadata": {},
   "outputs": [
    {
     "data": {
      "text/plain": [
       "Education Level\n",
       "Bachelor's Degree    2265\n",
       "Master's Degree      1570\n",
       "PhD                  1368\n",
       "Bachelor's            756\n",
       "High School           436\n",
       "Master's              288\n",
       "phD                     1\n",
       "Name: count, dtype: int64"
      ]
     },
     "execution_count": 19,
     "metadata": {},
     "output_type": "execute_result"
    }
   ],
   "source": [
    "# Calculate the total count of each education level\n",
    "education_counts = df['Education Level'].value_counts()\n",
    "education_counts"
   ]
  },
  {
   "cell_type": "code",
   "execution_count": 20,
   "metadata": {},
   "outputs": [],
   "source": [
    "#Education Level string replacement\n",
    "df['Education Level'].replace(\"Bachelor's Degree\", \"Bachelor's\", inplace=True)\n",
    "df['Education Level'].replace(\"Master's Degree\", \"Master's\", inplace=True)\n",
    "df['Education Level'].replace(\"phD\", \"PhD\", inplace=True)\n"
   ]
  },
  {
   "cell_type": "code",
   "execution_count": 21,
   "metadata": {},
   "outputs": [
    {
     "data": {
      "text/plain": [
       "Education Level\n",
       "Bachelor's     3021\n",
       "Master's       1858\n",
       "PhD            1369\n",
       "High School     436\n",
       "Name: count, dtype: int64"
      ]
     },
     "execution_count": 21,
     "metadata": {},
     "output_type": "execute_result"
    }
   ],
   "source": [
    "# Calculate the total count of each education level\n",
    "education_counts = df['Education Level'].value_counts()\n",
    "education_counts"
   ]
  },
  {
   "cell_type": "code",
   "execution_count": 32,
   "metadata": {},
   "outputs": [
    {
     "data": {
      "image/png": "[encoded data removed]",
      "text/plain": [
       "<Figure size 800x600 with 1 Axes>"
      ]
     },
     "metadata": {},
     "output_type": "display_data"
    }
   ],
   "source": [
    "# Choose a Seaborn color palette\n",
    "color_palette = 'crest_r'\n",
    "\n",
    "# Set Seaborn style\n",
    "sns.set_style('whitegrid')\n",
    "\n",
    "# Create a vertical bar plot with the chosen color palette\n",
    "plt.figure(figsize=(8, 6))\n",
    "sns.barplot(x=education_counts.index, y=education_counts.values, palette=color_palette)\n",
    "plt.xlabel('Education Level')\n",
    "plt.ylabel('Total Count')\n",
    "plt.title('Distribution of Education Level Counts')\n",
    "plt.xticks(rotation=45, ha='right')  # Rotate x-axis labels for better visibility\n",
    "plt.tight_layout()\n",
    "plt.show()"
   ]
  },
  {
   "cell_type": "code",
   "execution_count": 33,
   "metadata": {},
   "outputs": [
    {
     "name": "stdout",
     "output_type": "stream",
     "text": [
      "Number of duplicates: 4905\n"
     ]
    }
   ],
   "source": [
    "# Checking for duplicates \n",
    "duplicates = df.duplicated()\n",
    "print(\"Number of duplicates:\", duplicates.sum())\n",
    "\n",
    "# Removing duplicated rows\n",
    "df.drop_duplicates(inplace=True)"
   ]
  },
  {
   "cell_type": "code",
   "execution_count": 34,
   "metadata": {},
   "outputs": [
    {
     "data": {
      "text/plain": [
       "1779"
      ]
     },
     "execution_count": 34,
     "metadata": {},
     "output_type": "execute_result"
    }
   ],
   "source": [
    "len(df)"
   ]
  },
  {
   "cell_type": "code",
   "execution_count": 35,
   "metadata": {},
   "outputs": [],
   "source": [
    "import pandas as pd\n",
    "import numpy as np\n",
    "from scipy import stats\n",
    "\n",
    "# Function to detect outliers using Z-score\n",
    "def detect_outliers_zscore(dataframe, threshold=3):\n",
    "    df_copy = dataframe.copy()  # Create a copy of the DataFrame to avoid modifying the original data\n",
    "    # Loop through all numerical columns in the DataFrame\n",
    "    for col in df_copy.select_dtypes(include=[np.number]).columns:\n",
    "        # Calculate the Z-score for each data point in the column\n",
    "        z_scores = np.abs(stats.zscore(df_copy[col]))\n",
    "        # Create a boolean mask for outliers\n",
    "        outliers_mask = z_scores > threshold\n",
    "        # Add a new column to the DataFrame to identify outliers\n",
    "        df_copy[f'{col}_outlier'] = outliers_mask\n",
    "        # Add a new column to the DataFrame to store the Z-scores\n",
    "        df_copy[f'{col}_zscore'] = z_scores\n",
    "    return df_copy\n",
    "    \n",
    "# Call the function to detect outliers using Z-score\n",
    "df_with_outliers = detect_outliers_zscore(df)\n"
   ]
  },
  {
   "cell_type": "code",
   "execution_count": 36,
   "metadata": {},
   "outputs": [
    {
     "name": "stdout",
     "output_type": "stream",
     "text": [
      "       Age  Age_zscore  Age_outlier\n",
      "1211  61.0    3.161673         True\n",
      "1225  62.0    3.283863         True\n",
      "1260  60.0    3.039484         True\n"
     ]
    }
   ],
   "source": [
    "# Filter the DataFrame to show only rows with outliers for 'Age' column\n",
    "outlier_rows_age = df_with_outliers[df_with_outliers['Age_outlier']]\n",
    "\n",
    "# Select only 'Age' and 'Age_outlier' columns\n",
    "age_outlier_subset = outlier_rows_age[['Age', 'Age_zscore', 'Age_outlier']]\n",
    "\n",
    "# Drop duplicate outlier rows to show only unique outliers\n",
    "unique_outlier_rows_age = age_outlier_subset.drop_duplicates()\n",
    "\n",
    "# Display the DataFrame with only unique rows containing outliers for 'Age' column\n",
    "print(unique_outlier_rows_age)\n"
   ]
  },
  {
   "cell_type": "code",
   "execution_count": 37,
   "metadata": {},
   "outputs": [
    {
     "data": {
      "image/png": "[encoded data removed]",
      "text/plain": [
       "<Figure size 800x600 with 1 Axes>"
      ]
     },
     "metadata": {},
     "output_type": "display_data"
    }
   ],
   "source": [
    "# Function to calculate Z-scores for the entire 'Age' column\n",
    "def calculate_zscores(dataframe):\n",
    "    z_scores = stats.zscore(dataframe['Age'])\n",
    "    return z_scores\n",
    "\n",
    "# Assuming 'df' is your DataFrame\n",
    "# Calculate Z-scores for 'Age' column\n",
    "df['Age_Z-score'] = calculate_zscores(df)\n",
    "\n",
    "# Create a boxplot to visualize Z-scores for 'Age'\n",
    "plt.figure(figsize=(8, 6))\n",
    "plt.boxplot(df['Age_Z-score'], vert=False)\n",
    "plt.xlabel('Z-scores for Age')\n",
    "plt.title('Boxplot of Z-scores for Age')\n",
    "plt.show()"
   ]
  },
  {
   "cell_type": "code",
   "execution_count": 38,
   "metadata": {},
   "outputs": [
    {
     "name": "stdout",
     "output_type": "stream",
     "text": [
      "      Years of Experience  Years of Experience_zscore  \\\n",
      "2387                 30.0                     3.06908   \n",
      "2396                 33.0                     3.51026   \n",
      "2421                 34.0                     3.65732   \n",
      "2574                 31.0                     3.21614   \n",
      "2820                 32.0                     3.36320   \n",
      "\n",
      "      Years of Experience_outlier  \n",
      "2387                         True  \n",
      "2396                         True  \n",
      "2421                         True  \n",
      "2574                         True  \n",
      "2820                         True  \n"
     ]
    }
   ],
   "source": [
    "# Filter the DataFrame to show only rows with outliers for 'Age' column\n",
    "outlier_rows_years_of_exp = df_with_outliers[df_with_outliers['Years of Experience_outlier']]\n",
    "\n",
    "# Select only 'Age' and 'Age_outlier' columns\n",
    "years_of_exp_outlier_subset = outlier_rows_years_of_exp[['Years of Experience','Years of Experience_zscore' ,'Years of Experience_outlier']]\n",
    "\n",
    "# Drop duplicate outlier rows to show only unique outliers\n",
    "unique_outlier_rows_years_of_exp = years_of_exp_outlier_subset.drop_duplicates()\n",
    "\n",
    "# Display the DataFrame with only unique rows containing outliers for 'Age' column\n",
    "print(unique_outlier_rows_years_of_exp)"
   ]
  },
  {
   "cell_type": "code",
   "execution_count": 39,
   "metadata": {},
   "outputs": [
    {
     "data": {
      "image/png": "[encoded data removed]",
      "text/plain": [
       "<Figure size 800x600 with 1 Axes>"
      ]
     },
     "metadata": {},
     "output_type": "display_data"
    }
   ],
   "source": [
    "# Function to calculate Z-scores for the entire 'Age' column\n",
    "def calculate_zscores(dataframe):\n",
    "    z_scores = stats.zscore(dataframe['Years of Experience'])\n",
    "    return z_scores\n",
    "\n",
    "# Assuming 'df' is your DataFrame\n",
    "# Calculate Z-scores for 'Age' column\n",
    "df['Years of Experience_Z-score'] = calculate_zscores(df)\n",
    "\n",
    "# Create a boxplot to visualize Z-scores for 'Age'\n",
    "plt.figure(figsize=(8, 6))\n",
    "plt.boxplot(df['Years of Experience_Z-score'], vert=False)\n",
    "plt.xlabel('Z-scores for Years of Experience')\n",
    "plt.title('Boxplot of Z-scores for Years of Experience')\n",
    "plt.show()"
   ]
  },
  {
   "cell_type": "code",
   "execution_count": 40,
   "metadata": {},
   "outputs": [
    {
     "name": "stdout",
     "output_type": "stream",
     "text": [
      "Empty DataFrame\n",
      "Columns: [Salary, Salary_zscore, Salary_outlier]\n",
      "Index: []\n"
     ]
    }
   ],
   "source": [
    "# Filter the DataFrame to show only rows with outliers for 'Age' column\n",
    "outlier_rows_salary = df_with_outliers[df_with_outliers['Salary_outlier']]\n",
    "\n",
    "# Select only 'Age' and 'Age_outlier' columns\n",
    "salary_outlier_subset = outlier_rows_salary[['Salary', 'Salary_zscore' ,'Salary_outlier']]\n",
    "\n",
    "# Drop duplicate outlier rows to show only unique outliers\n",
    "unique_outlier_rows_salary = salary_outlier_subset.drop_duplicates()\n",
    "\n",
    "# Display the DataFrame with only unique rows containing outliers for 'Age' column\n",
    "print(unique_outlier_rows_salary)\n"
   ]
  },
  {
   "cell_type": "code",
   "execution_count": 41,
   "metadata": {},
   "outputs": [
    {
     "name": "stdout",
     "output_type": "stream",
     "text": [
      "       Age  Gender Education Level                  Job Title  \\\n",
      "0     32.0    Male      Bachelor's          Software Engineer   \n",
      "1     28.0  Female        Master's               Data Analyst   \n",
      "2     45.0    Male             PhD             Senior Manager   \n",
      "3     36.0  Female      Bachelor's            Sales Associate   \n",
      "4     52.0    Male        Master's                   Director   \n",
      "...    ...     ...             ...                        ...   \n",
      "6623  43.0  Female        Master's  Digital Marketing Manager   \n",
      "6624  27.0    Male     High School              Sales Manager   \n",
      "6625  33.0  Female      Bachelor's      Director of Marketing   \n",
      "6628  37.0    Male      Bachelor's             Sales Director   \n",
      "6631  30.0  Female      Bachelor's              Sales Manager   \n",
      "\n",
      "      Years of Experience    Salary  \n",
      "0                     5.0   90000.0  \n",
      "1                     3.0   65000.0  \n",
      "2                    15.0  150000.0  \n",
      "3                     7.0   60000.0  \n",
      "4                    20.0  200000.0  \n",
      "...                   ...       ...  \n",
      "6623                 15.0  150000.0  \n",
      "6624                  2.0   40000.0  \n",
      "6625                  8.0   80000.0  \n",
      "6628                  7.0   90000.0  \n",
      "6631                  5.0   70000.0  \n",
      "\n",
      "[1756 rows x 6 columns]\n"
     ]
    }
   ],
   "source": [
    "# Function to detect outliers using Z-scores and drop the outlier rows\n",
    "def drop_outliers_zscore(dataframe, threshold=3):\n",
    "    df_copy = dataframe.copy()\n",
    "    for col in df_copy.select_dtypes(include=[np.number]).columns:\n",
    "        z_scores = np.abs(stats.zscore(df_copy[col]))\n",
    "        outliers_mask = z_scores > threshold\n",
    "        df_copy = df_copy.loc[~outliers_mask]\n",
    "    return df_copy\n",
    "\n",
    "# Apply the function to drop rows containing outliers based on Z-scores\n",
    "df_without_outliers = drop_outliers_zscore(df)\n",
    "df_without_outliers = df_without_outliers[['Age', 'Gender', 'Education Level', 'Job Title', 'Years of Experience', 'Salary']]\n",
    "\n",
    "\n",
    "# Display the DataFrame without outlier rows\n",
    "print(df_without_outliers)"
   ]
  },
  {
   "cell_type": "code",
   "execution_count": 42,
   "metadata": {},
   "outputs": [
    {
     "name": "stdout",
     "output_type": "stream",
     "text": [
      "                          Age  Years of Experience    Salary\n",
      "Age                  1.000000             0.936150  0.763066\n",
      "Years of Experience  0.936150             1.000000  0.826882\n",
      "Salary               0.763066             0.826882  1.000000\n"
     ]
    }
   ],
   "source": [
    "# Select the columns for which you want to create the correlation matrix\n",
    "selected_columns = ['Age', 'Years of Experience', 'Salary']\n",
    "\n",
    "# Create a new DataFrame containing only the selected columns\n",
    "selected_df = df_without_outliers[selected_columns]\n",
    "\n",
    "# Calculate the correlation matrix\n",
    "correlation_matrix = selected_df.corr()\n",
    "\n",
    "# Print the correlation matrix\n",
    "print(correlation_matrix)\n"
   ]
  },
  {
   "cell_type": "code",
   "execution_count": 46,
   "metadata": {},
   "outputs": [
    {
     "data": {
      "image/png": "[encoded data removed]",
      "text/plain": [
       "<Figure size 800x600 with 1 Axes>"
      ]
     },
     "metadata": {},
     "output_type": "display_data"
    }
   ],
   "source": [
    "import matplotlib.pyplot as plt\n",
    "import seaborn as sns\n",
    "\n",
    "# Create a line plot to visualize the relationship between 'Age' and 'Years of Experience'\n",
    "plt.figure(figsize=(8, 6))\n",
    "sns.lineplot(data=df_without_outliers, x='Years of Experience', y='Age', color='blue')\n",
    "plt.xlabel('Years of Experience')\n",
    "plt.ylabel('Age')\n",
    "plt.title('Relationship between Years of Experience and Age')\n",
    "plt.tight_layout()\n",
    "plt.show()\n",
    "\n",
    "\n"
   ]
  },
  {
   "cell_type": "code",
   "execution_count": 47,
   "metadata": {},
   "outputs": [
    {
     "name": "stdout",
     "output_type": "stream",
     "text": [
      "      Gender Education Level                  Job Title  Years of Experience  \\\n",
      "0       Male      Bachelor's          Software Engineer                  5.0   \n",
      "1     Female        Master's               Data Analyst                  3.0   \n",
      "2       Male             PhD             Senior Manager                 15.0   \n",
      "3     Female      Bachelor's            Sales Associate                  7.0   \n",
      "4       Male        Master's                   Director                 20.0   \n",
      "...      ...             ...                        ...                  ...   \n",
      "6623  Female        Master's  Digital Marketing Manager                 15.0   \n",
      "6624    Male     High School              Sales Manager                  2.0   \n",
      "6625  Female      Bachelor's      Director of Marketing                  8.0   \n",
      "6628    Male      Bachelor's             Sales Director                  7.0   \n",
      "6631  Female      Bachelor's              Sales Manager                  5.0   \n",
      "\n",
      "        Salary  \n",
      "0      90000.0  \n",
      "1      65000.0  \n",
      "2     150000.0  \n",
      "3      60000.0  \n",
      "4     200000.0  \n",
      "...        ...  \n",
      "6623  150000.0  \n",
      "6624   40000.0  \n",
      "6625   80000.0  \n",
      "6628   90000.0  \n",
      "6631   70000.0  \n",
      "\n",
      "[1756 rows x 5 columns]\n"
     ]
    }
   ],
   "source": [
    "# Drop the 'Age' column\n",
    "df_without_outliers.drop('Age', axis=1, inplace=True)\n",
    "\n",
    "# Display the DataFrame without the 'Age' column\n",
    "print(df_without_outliers)"
   ]
  },
  {
   "cell_type": "code",
   "execution_count": 48,
   "metadata": {},
   "outputs": [],
   "source": [
    "df_without_outliers=df_without_outliers.reset_index(drop=True)"
   ]
  },
  {
   "cell_type": "code",
   "execution_count": 49,
   "metadata": {},
   "outputs": [
    {
     "name": "stdout",
     "output_type": "stream",
     "text": [
      "      Gender Education Level                  Job Title  Years of Experience  \\\n",
      "0       Male      Bachelor's          Software Engineer                  5.0   \n",
      "1     Female        Master's               Data Analyst                  3.0   \n",
      "2       Male             PhD             Senior Manager                 15.0   \n",
      "3     Female      Bachelor's            Sales Associate                  7.0   \n",
      "4       Male        Master's                   Director                 20.0   \n",
      "...      ...             ...                        ...                  ...   \n",
      "1751  Female        Master's  Digital Marketing Manager                 15.0   \n",
      "1752    Male     High School              Sales Manager                  2.0   \n",
      "1753  Female      Bachelor's      Director of Marketing                  8.0   \n",
      "1754    Male      Bachelor's             Sales Director                  7.0   \n",
      "1755  Female      Bachelor's              Sales Manager                  5.0   \n",
      "\n",
      "        Salary  Gender_Male  \n",
      "0      90000.0          1.0  \n",
      "1      65000.0          0.0  \n",
      "2     150000.0          1.0  \n",
      "3      60000.0          0.0  \n",
      "4     200000.0          1.0  \n",
      "...        ...          ...  \n",
      "1751  150000.0          0.0  \n",
      "1752   40000.0          1.0  \n",
      "1753   80000.0          0.0  \n",
      "1754   90000.0          1.0  \n",
      "1755   70000.0          0.0  \n",
      "\n",
      "[1756 rows x 6 columns]\n"
     ]
    }
   ],
   "source": [
    "from sklearn.preprocessing import OneHotEncoder\n",
    "\n",
    "# Create an instance of the OneHotEncoder\n",
    "onehot_encoder = OneHotEncoder(drop='first', sparse=False)\n",
    "\n",
    "# Apply one-hot encoding to the 'Gender' column\n",
    "gender_encoded = onehot_encoder.fit_transform(df_without_outliers[['Gender']])\n",
    "\n",
    "# Create a DataFrame with the one-hot encoded features and appropriate column names\n",
    "df_encoded_gender = pd.DataFrame(gender_encoded, columns=onehot_encoder.get_feature_names_out())\n",
    "\n",
    "# Concatenate the one-hot encoded DataFrame with the original DataFrame\n",
    "df_encoded = pd.concat([df_without_outliers, df_encoded_gender], axis=1)\n",
    "\n",
    "# Display the DataFrame with one-hot encoded 'Gender' column\n",
    "print(df_encoded)"
   ]
  },
  {
   "cell_type": "code",
   "execution_count": 50,
   "metadata": {},
   "outputs": [
    {
     "data": {
      "text/html": [
       "<div>\n",
       "<style scoped>\n",
       "    .dataframe tbody tr th:only-of-type {\n",
       "        vertical-align: middle;\n",
       "    }\n",
       "\n",
       "    .dataframe tbody tr th {\n",
       "        vertical-align: top;\n",
       "    }\n",
       "\n",
       "    .dataframe thead th {\n",
       "        text-align: right;\n",
       "    }\n",
       "</style>\n",
       "<table border=\"1\" class=\"dataframe\">\n",
       "  <thead>\n",
       "    <tr style=\"text-align: right;\">\n",
       "      <th></th>\n",
       "      <th>Gender</th>\n",
       "      <th>Education Level</th>\n",
       "      <th>Job Title</th>\n",
       "      <th>Years of Experience</th>\n",
       "      <th>Salary</th>\n",
       "      <th>Gender_Male</th>\n",
       "      <th>Education Level Encoded</th>\n",
       "    </tr>\n",
       "  </thead>\n",
       "  <tbody>\n",
       "    <tr>\n",
       "      <th>1746</th>\n",
       "      <td>Male</td>\n",
       "      <td>Master's</td>\n",
       "      <td>Marketing Manager</td>\n",
       "      <td>14.0</td>\n",
       "      <td>140000.0</td>\n",
       "      <td>1.0</td>\n",
       "      <td>2.0</td>\n",
       "    </tr>\n",
       "    <tr>\n",
       "      <th>1747</th>\n",
       "      <td>Female</td>\n",
       "      <td>High School</td>\n",
       "      <td>Sales Executive</td>\n",
       "      <td>1.0</td>\n",
       "      <td>35000.0</td>\n",
       "      <td>0.0</td>\n",
       "      <td>0.0</td>\n",
       "    </tr>\n",
       "    <tr>\n",
       "      <th>1748</th>\n",
       "      <td>Male</td>\n",
       "      <td>Bachelor's</td>\n",
       "      <td>Content Marketing Manager</td>\n",
       "      <td>13.0</td>\n",
       "      <td>130000.0</td>\n",
       "      <td>1.0</td>\n",
       "      <td>1.0</td>\n",
       "    </tr>\n",
       "    <tr>\n",
       "      <th>1749</th>\n",
       "      <td>Female</td>\n",
       "      <td>PhD</td>\n",
       "      <td>Senior Product Marketing Manager</td>\n",
       "      <td>10.0</td>\n",
       "      <td>100000.0</td>\n",
       "      <td>0.0</td>\n",
       "      <td>3.0</td>\n",
       "    </tr>\n",
       "    <tr>\n",
       "      <th>1750</th>\n",
       "      <td>Male</td>\n",
       "      <td>Bachelor's</td>\n",
       "      <td>Sales Representative</td>\n",
       "      <td>1.0</td>\n",
       "      <td>35000.0</td>\n",
       "      <td>1.0</td>\n",
       "      <td>1.0</td>\n",
       "    </tr>\n",
       "    <tr>\n",
       "      <th>1751</th>\n",
       "      <td>Female</td>\n",
       "      <td>Master's</td>\n",
       "      <td>Digital Marketing Manager</td>\n",
       "      <td>15.0</td>\n",
       "      <td>150000.0</td>\n",
       "      <td>0.0</td>\n",
       "      <td>2.0</td>\n",
       "    </tr>\n",
       "    <tr>\n",
       "      <th>1752</th>\n",
       "      <td>Male</td>\n",
       "      <td>High School</td>\n",
       "      <td>Sales Manager</td>\n",
       "      <td>2.0</td>\n",
       "      <td>40000.0</td>\n",
       "      <td>1.0</td>\n",
       "      <td>0.0</td>\n",
       "    </tr>\n",
       "    <tr>\n",
       "      <th>1753</th>\n",
       "      <td>Female</td>\n",
       "      <td>Bachelor's</td>\n",
       "      <td>Director of Marketing</td>\n",
       "      <td>8.0</td>\n",
       "      <td>80000.0</td>\n",
       "      <td>0.0</td>\n",
       "      <td>1.0</td>\n",
       "    </tr>\n",
       "    <tr>\n",
       "      <th>1754</th>\n",
       "      <td>Male</td>\n",
       "      <td>Bachelor's</td>\n",
       "      <td>Sales Director</td>\n",
       "      <td>7.0</td>\n",
       "      <td>90000.0</td>\n",
       "      <td>1.0</td>\n",
       "      <td>1.0</td>\n",
       "    </tr>\n",
       "    <tr>\n",
       "      <th>1755</th>\n",
       "      <td>Female</td>\n",
       "      <td>Bachelor's</td>\n",
       "      <td>Sales Manager</td>\n",
       "      <td>5.0</td>\n",
       "      <td>70000.0</td>\n",
       "      <td>0.0</td>\n",
       "      <td>1.0</td>\n",
       "    </tr>\n",
       "  </tbody>\n",
       "</table>\n",
       "</div>"
      ],
      "text/plain": [
       "      Gender Education Level                         Job Title  \\\n",
       "1746    Male        Master's                 Marketing Manager   \n",
       "1747  Female     High School                   Sales Executive   \n",
       "1748    Male      Bachelor's         Content Marketing Manager   \n",
       "1749  Female             PhD  Senior Product Marketing Manager   \n",
       "1750    Male      Bachelor's              Sales Representative   \n",
       "1751  Female        Master's         Digital Marketing Manager   \n",
       "1752    Male     High School                     Sales Manager   \n",
       "1753  Female      Bachelor's             Director of Marketing   \n",
       "1754    Male      Bachelor's                    Sales Director   \n",
       "1755  Female      Bachelor's                     Sales Manager   \n",
       "\n",
       "      Years of Experience    Salary  Gender_Male  Education Level Encoded  \n",
       "1746                 14.0  140000.0          1.0                      2.0  \n",
       "1747                  1.0   35000.0          0.0                      0.0  \n",
       "1748                 13.0  130000.0          1.0                      1.0  \n",
       "1749                 10.0  100000.0          0.0                      3.0  \n",
       "1750                  1.0   35000.0          1.0                      1.0  \n",
       "1751                 15.0  150000.0          0.0                      2.0  \n",
       "1752                  2.0   40000.0          1.0                      0.0  \n",
       "1753                  8.0   80000.0          0.0                      1.0  \n",
       "1754                  7.0   90000.0          1.0                      1.0  \n",
       "1755                  5.0   70000.0          0.0                      1.0  "
      ]
     },
     "execution_count": 50,
     "metadata": {},
     "output_type": "execute_result"
    }
   ],
   "source": [
    "# Use ordinal encoder for Education Level\n",
    "from sklearn.preprocessing import OrdinalEncoder\n",
    "\n",
    "# Define the order of ordinal categories (adjust the order as per your data)\n",
    "education_order = ['High School', \"Bachelor's\", \"Master's\", 'PhD']\n",
    "\n",
    "# Create an instance of the OrdinalEncoder with the specified order\n",
    "ordinal_encoder = OrdinalEncoder(categories=[education_order])\n",
    "\n",
    "# Apply the ordinal encoding to the 'Education Level' column\n",
    "df_encoded['Education Level Encoded'] = ordinal_encoder.fit_transform(df_encoded[['Education Level']])\n",
    "\n",
    "# Display the DataFrame with the new 'Education Level Encoded' column\n",
    "df_encoded.tail(10)"
   ]
  },
  {
   "cell_type": "code",
   "execution_count": 51,
   "metadata": {},
   "outputs": [
    {
     "name": "stdout",
     "output_type": "stream",
     "text": [
      "      Gender Education Level                  Job Title  Years of Experience  \\\n",
      "0       Male      Bachelor's          Software Engineer                  5.0   \n",
      "1     Female        Master's               Data Analyst                  3.0   \n",
      "2       Male             PhD             Senior Manager                 15.0   \n",
      "3     Female      Bachelor's            Sales Associate                  7.0   \n",
      "4       Male        Master's                   Director                 20.0   \n",
      "...      ...             ...                        ...                  ...   \n",
      "1751  Female        Master's  Digital Marketing Manager                 15.0   \n",
      "1752    Male     High School              Sales Manager                  2.0   \n",
      "1753  Female      Bachelor's      Director of Marketing                  8.0   \n",
      "1754    Male      Bachelor's             Sales Director                  7.0   \n",
      "1755  Female      Bachelor's              Sales Manager                  5.0   \n",
      "\n",
      "        Salary  Gender_Male  Education Level Encoded Department     Level  \n",
      "0      90000.0          1.0                      1.0         IT       SME  \n",
      "1      65000.0          0.0                      2.0         IT       SME  \n",
      "2     150000.0          1.0                      3.0    General   Manager  \n",
      "3      60000.0          0.0                      1.0      Sales    Junior  \n",
      "4     200000.0          1.0                      2.0    General  Director  \n",
      "...        ...          ...                      ...        ...       ...  \n",
      "1751  150000.0          0.0                      2.0  Marketing   Manager  \n",
      "1752   40000.0          1.0                      0.0      Sales   Manager  \n",
      "1753   80000.0          0.0                      1.0  Marketing  Director  \n",
      "1754   90000.0          1.0                      1.0      Sales  Director  \n",
      "1755   70000.0          0.0                      1.0      Sales   Manager  \n",
      "\n",
      "[1756 rows x 9 columns]\n"
     ]
    }
   ],
   "source": [
    "# Define keywords for each level\n",
    "junior_keywords = ['Junior', 'Juniour', 'Entry-Level', 'Associate', 'Coordinator', 'Assistant', 'Training', 'Clerk', 'Representative', 'Rep']\n",
    "senior_keywords = ['Senior', 'Experienced']\n",
    "manager_keywords = ['Manager','Man']\n",
    "director_keywords = ['Director', 'VP']\n",
    "ceo_keywords = ['CEO', 'Chief']\n",
    "\n",
    "\n",
    "# Function to categorize the job titles\n",
    "def categorize_job_level(job_title):\n",
    "    job_title_lower = job_title.lower()\n",
    "    \n",
    "    if any(keyword.lower().strip() in job_title_lower for keyword in junior_keywords):\n",
    "        return 'Junior'\n",
    "    elif any(keyword.lower().strip() in job_title_lower for keyword in senior_keywords):\n",
    "        if 'senior manager' in job_title_lower:\n",
    "            return 'Manager'\n",
    "        else:\n",
    "            return 'Senior'\n",
    "    elif any(keyword.lower().strip() in job_title_lower for keyword in manager_keywords):\n",
    "        return 'Manager'\n",
    "    elif any(keyword.lower().strip() in job_title_lower for keyword in director_keywords):\n",
    "        return 'Director'\n",
    "    elif any(keyword.lower().strip() in job_title_lower for keyword in ceo_keywords):\n",
    "        return 'CEO'\n",
    "    else:\n",
    "        return 'SME'\n",
    "\n",
    "# Define keywords for each department\n",
    "it_keywords = ['IT', 'Technical','Technology', 'Engineer', 'Developer', 'Software', 'Web', 'Network', 'Support', 'Programmer', 'Data','Customer Success', 'Product']\n",
    "hr_keywords = ['HR', 'Human Resources', 'Recruiter']\n",
    "finance_keywords = ['Finance', 'Financial', 'Accountant']\n",
    "marketing_keywords = ['Marketing', 'Social Media', 'Digital Marketing', 'Copywriter', 'Advertising', 'Event']\n",
    "operations_keywords = ['Operations']\n",
    "sales_keywords = ['Sales', 'Account', 'Public Relations','Business Development', 'Account Manager', 'Representative', 'Rep']\n",
    "design_keywords = ['Designer', 'UX', 'Graphic', 'Creative', 'Product Designer', 'Digital Content']\n",
    "research_keywords = ['Research', 'Scientist', 'Analyst']\n",
    "\n",
    "# Function to categorize the job titles into departments\n",
    "def categorize_department(job_title):\n",
    "    job_title_lower = job_title.lower()\n",
    "    \n",
    "    if any(keyword.lower().strip() in job_title_lower for keyword in hr_keywords):\n",
    "        return 'HR'\n",
    "    elif any(keyword.lower().strip() in job_title_lower for keyword in finance_keywords):\n",
    "        return 'Finance'\n",
    "    elif any(keyword.lower().strip() in job_title_lower for keyword in operations_keywords):\n",
    "        return 'Operations'\n",
    "    elif any(keyword.lower().strip() in job_title_lower for keyword in sales_keywords):\n",
    "        return 'Sales'\n",
    "    elif any(keyword.lower().strip() in job_title_lower for keyword in design_keywords):\n",
    "        return 'Design'\n",
    "    elif any(keyword.lower().strip() in job_title_lower for keyword in marketing_keywords):\n",
    "        return 'Marketing'\n",
    "    elif any(keyword.lower().strip() in job_title_lower for keyword in it_keywords):\n",
    "        return 'IT'\n",
    "    elif any(keyword.lower().strip() in job_title_lower for keyword in research_keywords):\n",
    "        return 'Research'\n",
    "    else:\n",
    "        return 'General'\n",
    "\n",
    "# Apply the department categorization function to create a new column 'Department'\n",
    "df_encoded['Department'] = df_encoded['Job Title'].apply(categorize_department)\n",
    "df_encoded['Level'] = df_encoded['Job Title'].apply(categorize_job_level)\n",
    "# Print the updated DataFrame\n",
    "print(df_encoded)\n"
   ]
  },
  {
   "cell_type": "code",
   "execution_count": 52,
   "metadata": {},
   "outputs": [
    {
     "data": {
      "text/html": [
       "<div>\n",
       "<style scoped>\n",
       "    .dataframe tbody tr th:only-of-type {\n",
       "        vertical-align: middle;\n",
       "    }\n",
       "\n",
       "    .dataframe tbody tr th {\n",
       "        vertical-align: top;\n",
       "    }\n",
       "\n",
       "    .dataframe thead th {\n",
       "        text-align: right;\n",
       "    }\n",
       "</style>\n",
       "<table border=\"1\" class=\"dataframe\">\n",
       "  <thead>\n",
       "    <tr style=\"text-align: right;\">\n",
       "      <th></th>\n",
       "      <th>Gender</th>\n",
       "      <th>Education Level</th>\n",
       "      <th>Job Title</th>\n",
       "      <th>Years of Experience</th>\n",
       "      <th>Salary</th>\n",
       "      <th>Gender_Male</th>\n",
       "      <th>Education Level Encoded</th>\n",
       "      <th>Department</th>\n",
       "      <th>Level</th>\n",
       "    </tr>\n",
       "  </thead>\n",
       "  <tbody>\n",
       "    <tr>\n",
       "      <th>0</th>\n",
       "      <td>Male</td>\n",
       "      <td>Bachelor's</td>\n",
       "      <td>Software Engineer</td>\n",
       "      <td>5.0</td>\n",
       "      <td>90000.0</td>\n",
       "      <td>1.0</td>\n",
       "      <td>1.0</td>\n",
       "      <td>IT</td>\n",
       "      <td>SME</td>\n",
       "    </tr>\n",
       "    <tr>\n",
       "      <th>1</th>\n",
       "      <td>Female</td>\n",
       "      <td>Master's</td>\n",
       "      <td>Data Analyst</td>\n",
       "      <td>3.0</td>\n",
       "      <td>65000.0</td>\n",
       "      <td>0.0</td>\n",
       "      <td>2.0</td>\n",
       "      <td>IT</td>\n",
       "      <td>SME</td>\n",
       "    </tr>\n",
       "    <tr>\n",
       "      <th>2</th>\n",
       "      <td>Male</td>\n",
       "      <td>PhD</td>\n",
       "      <td>Senior Manager</td>\n",
       "      <td>15.0</td>\n",
       "      <td>150000.0</td>\n",
       "      <td>1.0</td>\n",
       "      <td>3.0</td>\n",
       "      <td>General</td>\n",
       "      <td>Manager</td>\n",
       "    </tr>\n",
       "    <tr>\n",
       "      <th>3</th>\n",
       "      <td>Female</td>\n",
       "      <td>Bachelor's</td>\n",
       "      <td>Sales Associate</td>\n",
       "      <td>7.0</td>\n",
       "      <td>60000.0</td>\n",
       "      <td>0.0</td>\n",
       "      <td>1.0</td>\n",
       "      <td>Sales</td>\n",
       "      <td>Junior</td>\n",
       "    </tr>\n",
       "    <tr>\n",
       "      <th>4</th>\n",
       "      <td>Male</td>\n",
       "      <td>Master's</td>\n",
       "      <td>Director</td>\n",
       "      <td>20.0</td>\n",
       "      <td>200000.0</td>\n",
       "      <td>1.0</td>\n",
       "      <td>2.0</td>\n",
       "      <td>General</td>\n",
       "      <td>Director</td>\n",
       "    </tr>\n",
       "  </tbody>\n",
       "</table>\n",
       "</div>"
      ],
      "text/plain": [
       "   Gender Education Level          Job Title  Years of Experience    Salary  \\\n",
       "0    Male      Bachelor's  Software Engineer                  5.0   90000.0   \n",
       "1  Female        Master's       Data Analyst                  3.0   65000.0   \n",
       "2    Male             PhD     Senior Manager                 15.0  150000.0   \n",
       "3  Female      Bachelor's    Sales Associate                  7.0   60000.0   \n",
       "4    Male        Master's           Director                 20.0  200000.0   \n",
       "\n",
       "   Gender_Male  Education Level Encoded Department     Level  \n",
       "0          1.0                      1.0         IT       SME  \n",
       "1          0.0                      2.0         IT       SME  \n",
       "2          1.0                      3.0    General   Manager  \n",
       "3          0.0                      1.0      Sales    Junior  \n",
       "4          1.0                      2.0    General  Director  "
      ]
     },
     "execution_count": 52,
     "metadata": {},
     "output_type": "execute_result"
    }
   ],
   "source": [
    "df_encoded.head()"
   ]
  },
  {
   "cell_type": "code",
   "execution_count": 53,
   "metadata": {},
   "outputs": [
    {
     "data": {
      "image/png": "[encoded data removed]",
      "text/plain": [
       "<Figure size 1000x600 with 1 Axes>"
      ]
     },
     "metadata": {},
     "output_type": "display_data"
    },
    {
     "data": {
      "image/png": "[encoded data removed]",
      "text/plain": [
       "<Figure size 1000x600 with 1 Axes>"
      ]
     },
     "metadata": {},
     "output_type": "display_data"
    }
   ],
   "source": [
    "import seaborn as sns\n",
    "import matplotlib.pyplot as plt\n",
    "\n",
    "# Choose a Seaborn color palette\n",
    "color_palette = 'RdBu'  # Example: using the 'Blues_r' palette\n",
    "\n",
    "# Set Seaborn style\n",
    "sns.set_style('whitegrid')\n",
    "\n",
    "# Create a bar plot for 'Department' column\n",
    "plt.figure(figsize=(10, 6))\n",
    "sns.countplot(x='Department', data=df_encoded, palette=color_palette)\n",
    "plt.xlabel('Department')\n",
    "plt.ylabel('Count')\n",
    "plt.title('Number of Jobs in Each Department')\n",
    "plt.xticks(rotation=45)\n",
    "\n",
    "plt.tight_layout()\n",
    "plt.show()\n",
    "\n",
    "color_palette2 = 'CMRmap'  # Example: using the 'Blues_r' palette\n",
    "\n",
    "# Create a bar plot for 'Level' column\n",
    "plt.figure(figsize=(10, 6))\n",
    "sns.countplot(x='Level', data=df_encoded, palette=color_palette2)\n",
    "plt.xlabel('Job Level')\n",
    "plt.ylabel('Count')\n",
    "plt.title('Number of Jobs in Each Level')\n",
    "plt.xticks(rotation=45)\n",
    "\n",
    "plt.tight_layout()\n",
    "plt.show()"
   ]
  },
  {
   "cell_type": "code",
   "execution_count": 54,
   "metadata": {},
   "outputs": [
    {
     "data": {
      "text/plain": [
       "Department\n",
       "IT            984\n",
       "Marketing     239\n",
       "Sales         156\n",
       "HR            137\n",
       "Finance        68\n",
       "Operations     54\n",
       "Research       50\n",
       "General        39\n",
       "Design         29\n",
       "Name: count, dtype: int64"
      ]
     },
     "execution_count": 54,
     "metadata": {},
     "output_type": "execute_result"
    }
   ],
   "source": [
    "df_encoded['Department'].value_counts()"
   ]
  },
  {
   "cell_type": "code",
   "execution_count": 55,
   "metadata": {},
   "outputs": [
    {
     "data": {
      "text/plain": [
       "Level\n",
       "SME         644\n",
       "Manager     374\n",
       "Senior      344\n",
       "Junior      278\n",
       "Director    113\n",
       "CEO           3\n",
       "Name: count, dtype: int64"
      ]
     },
     "execution_count": 55,
     "metadata": {},
     "output_type": "execute_result"
    }
   ],
   "source": [
    "df_encoded['Level'].value_counts()"
   ]
  },
  {
   "cell_type": "code",
   "execution_count": 56,
   "metadata": {},
   "outputs": [
    {
     "data": {
      "text/html": [
       "<div>\n",
       "<style scoped>\n",
       "    .dataframe tbody tr th:only-of-type {\n",
       "        vertical-align: middle;\n",
       "    }\n",
       "\n",
       "    .dataframe tbody tr th {\n",
       "        vertical-align: top;\n",
       "    }\n",
       "\n",
       "    .dataframe thead th {\n",
       "        text-align: right;\n",
       "    }\n",
       "</style>\n",
       "<table border=\"1\" class=\"dataframe\">\n",
       "  <thead>\n",
       "    <tr style=\"text-align: right;\">\n",
       "      <th></th>\n",
       "      <th>Gender</th>\n",
       "      <th>Education Level</th>\n",
       "      <th>Job Title</th>\n",
       "      <th>Years of Experience</th>\n",
       "      <th>Salary</th>\n",
       "      <th>Gender_Male</th>\n",
       "      <th>Education Level Encoded</th>\n",
       "      <th>Department</th>\n",
       "      <th>Level</th>\n",
       "      <th>Department_Level</th>\n",
       "    </tr>\n",
       "  </thead>\n",
       "  <tbody>\n",
       "    <tr>\n",
       "      <th>0</th>\n",
       "      <td>Male</td>\n",
       "      <td>Bachelor's</td>\n",
       "      <td>Software Engineer</td>\n",
       "      <td>5.0</td>\n",
       "      <td>90000.0</td>\n",
       "      <td>1.0</td>\n",
       "      <td>1.0</td>\n",
       "      <td>IT</td>\n",
       "      <td>SME</td>\n",
       "      <td>IT-SME</td>\n",
       "    </tr>\n",
       "    <tr>\n",
       "      <th>1</th>\n",
       "      <td>Female</td>\n",
       "      <td>Master's</td>\n",
       "      <td>Data Analyst</td>\n",
       "      <td>3.0</td>\n",
       "      <td>65000.0</td>\n",
       "      <td>0.0</td>\n",
       "      <td>2.0</td>\n",
       "      <td>IT</td>\n",
       "      <td>SME</td>\n",
       "      <td>IT-SME</td>\n",
       "    </tr>\n",
       "    <tr>\n",
       "      <th>2</th>\n",
       "      <td>Male</td>\n",
       "      <td>PhD</td>\n",
       "      <td>Senior Manager</td>\n",
       "      <td>15.0</td>\n",
       "      <td>150000.0</td>\n",
       "      <td>1.0</td>\n",
       "      <td>3.0</td>\n",
       "      <td>General</td>\n",
       "      <td>Manager</td>\n",
       "      <td>General-Manager</td>\n",
       "    </tr>\n",
       "    <tr>\n",
       "      <th>3</th>\n",
       "      <td>Female</td>\n",
       "      <td>Bachelor's</td>\n",
       "      <td>Sales Associate</td>\n",
       "      <td>7.0</td>\n",
       "      <td>60000.0</td>\n",
       "      <td>0.0</td>\n",
       "      <td>1.0</td>\n",
       "      <td>Sales</td>\n",
       "      <td>Junior</td>\n",
       "      <td>Sales-Junior</td>\n",
       "    </tr>\n",
       "    <tr>\n",
       "      <th>4</th>\n",
       "      <td>Male</td>\n",
       "      <td>Master's</td>\n",
       "      <td>Director</td>\n",
       "      <td>20.0</td>\n",
       "      <td>200000.0</td>\n",
       "      <td>1.0</td>\n",
       "      <td>2.0</td>\n",
       "      <td>General</td>\n",
       "      <td>Director</td>\n",
       "      <td>General-Director</td>\n",
       "    </tr>\n",
       "  </tbody>\n",
       "</table>\n",
       "</div>"
      ],
      "text/plain": [
       "   Gender Education Level          Job Title  Years of Experience    Salary  \\\n",
       "0    Male      Bachelor's  Software Engineer                  5.0   90000.0   \n",
       "1  Female        Master's       Data Analyst                  3.0   65000.0   \n",
       "2    Male             PhD     Senior Manager                 15.0  150000.0   \n",
       "3  Female      Bachelor's    Sales Associate                  7.0   60000.0   \n",
       "4    Male        Master's           Director                 20.0  200000.0   \n",
       "\n",
       "   Gender_Male  Education Level Encoded Department     Level  Department_Level  \n",
       "0          1.0                      1.0         IT       SME            IT-SME  \n",
       "1          0.0                      2.0         IT       SME            IT-SME  \n",
       "2          1.0                      3.0    General   Manager   General-Manager  \n",
       "3          0.0                      1.0      Sales    Junior      Sales-Junior  \n",
       "4          1.0                      2.0    General  Director  General-Director  "
      ]
     },
     "execution_count": 56,
     "metadata": {},
     "output_type": "execute_result"
    }
   ],
   "source": [
    "# Create a new column by concatenating 'Department' and 'Level' columns\n",
    "df_encoded['Department_Level'] = df_encoded['Department'] + '-' + df_encoded['Level']\n",
    "\n",
    "# Head the updated DataFrame with the new column\n",
    "df_encoded.head()\n"
   ]
  },
  {
   "cell_type": "code",
   "execution_count": 57,
   "metadata": {},
   "outputs": [
    {
     "data": {
      "text/plain": [
       "Department_Level\n",
       "IT-SME                 544\n",
       "IT-Senior              218\n",
       "IT-Manager             170\n",
       "Marketing-Manager       99\n",
       "Sales-Junior            91\n",
       "Marketing-Junior        54\n",
       "HR-Junior               52\n",
       "IT-Junior               41\n",
       "HR-Senior               36\n",
       "Marketing-Senior        33\n",
       "Marketing-Director      33\n",
       "Finance-Manager         28\n",
       "HR-Director             27\n",
       "Sales-Manager           23\n",
       "Operations-Manager      23\n",
       "Marketing-SME           20\n",
       "Research-SME            20\n",
       "Design-SME              19\n",
       "Sales-Director          18\n",
       "HR-Manager              17\n",
       "Sales-SME               16\n",
       "Research-Senior         15\n",
       "General-Manager         14\n",
       "Finance-SME             14\n",
       "Finance-Senior          13\n",
       "Operations-Junior       12\n",
       "Operations-Director     11\n",
       "Research-Director       10\n",
       "General-Junior          10\n",
       "Finance-Junior          10\n",
       "IT-Director              9\n",
       "General-Senior           8\n",
       "Sales-Senior             8\n",
       "Operations-Senior        7\n",
       "Design-Senior            6\n",
       "General-SME              5\n",
       "HR-SME                   5\n",
       "Research-Junior          5\n",
       "Design-Junior            3\n",
       "Finance-Director         3\n",
       "IT-CEO                   2\n",
       "Design-Director          1\n",
       "Operations-SME           1\n",
       "General-Director         1\n",
       "General-CEO              1\n",
       "Name: count, dtype: int64"
      ]
     },
     "execution_count": 57,
     "metadata": {},
     "output_type": "execute_result"
    }
   ],
   "source": [
    "df_encoded['Department_Level'].value_counts()"
   ]
  },
  {
   "cell_type": "code",
   "execution_count": 58,
   "metadata": {},
   "outputs": [],
   "source": [
    "# Calculate mean salary for each department level\n",
    "mean_salary_by_department = df_encoded.groupby('Department_Level')['Salary'].mean()\n",
    "\n",
    "# Map the mean salary values back to the original dataframe\n",
    "df_encoded['Department_Level_Target_Encoded'] = df_encoded['Department_Level'].map(mean_salary_by_department)\n"
   ]
  },
  {
   "cell_type": "code",
   "execution_count": 59,
   "metadata": {},
   "outputs": [
    {
     "data": {
      "text/html": [
       "<div>\n",
       "<style scoped>\n",
       "    .dataframe tbody tr th:only-of-type {\n",
       "        vertical-align: middle;\n",
       "    }\n",
       "\n",
       "    .dataframe tbody tr th {\n",
       "        vertical-align: top;\n",
       "    }\n",
       "\n",
       "    .dataframe thead th {\n",
       "        text-align: right;\n",
       "    }\n",
       "</style>\n",
       "<table border=\"1\" class=\"dataframe\">\n",
       "  <thead>\n",
       "    <tr style=\"text-align: right;\">\n",
       "      <th></th>\n",
       "      <th>Gender</th>\n",
       "      <th>Education Level</th>\n",
       "      <th>Job Title</th>\n",
       "      <th>Years of Experience</th>\n",
       "      <th>Salary</th>\n",
       "      <th>Gender_Male</th>\n",
       "      <th>Education Level Encoded</th>\n",
       "      <th>Department</th>\n",
       "      <th>Level</th>\n",
       "      <th>Department_Level</th>\n",
       "      <th>Department_Level_Target_Encoded</th>\n",
       "    </tr>\n",
       "  </thead>\n",
       "  <tbody>\n",
       "    <tr>\n",
       "      <th>0</th>\n",
       "      <td>Male</td>\n",
       "      <td>Bachelor's</td>\n",
       "      <td>Software Engineer</td>\n",
       "      <td>5.0</td>\n",
       "      <td>90000.0</td>\n",
       "      <td>1.0</td>\n",
       "      <td>1.0</td>\n",
       "      <td>IT</td>\n",
       "      <td>SME</td>\n",
       "      <td>IT-SME</td>\n",
       "      <td>113559.920956</td>\n",
       "    </tr>\n",
       "    <tr>\n",
       "      <th>1</th>\n",
       "      <td>Female</td>\n",
       "      <td>Master's</td>\n",
       "      <td>Data Analyst</td>\n",
       "      <td>3.0</td>\n",
       "      <td>65000.0</td>\n",
       "      <td>0.0</td>\n",
       "      <td>2.0</td>\n",
       "      <td>IT</td>\n",
       "      <td>SME</td>\n",
       "      <td>IT-SME</td>\n",
       "      <td>113559.920956</td>\n",
       "    </tr>\n",
       "    <tr>\n",
       "      <th>2</th>\n",
       "      <td>Male</td>\n",
       "      <td>PhD</td>\n",
       "      <td>Senior Manager</td>\n",
       "      <td>15.0</td>\n",
       "      <td>150000.0</td>\n",
       "      <td>1.0</td>\n",
       "      <td>3.0</td>\n",
       "      <td>General</td>\n",
       "      <td>Manager</td>\n",
       "      <td>General-Manager</td>\n",
       "      <td>115714.285714</td>\n",
       "    </tr>\n",
       "    <tr>\n",
       "      <th>3</th>\n",
       "      <td>Female</td>\n",
       "      <td>Bachelor's</td>\n",
       "      <td>Sales Associate</td>\n",
       "      <td>7.0</td>\n",
       "      <td>60000.0</td>\n",
       "      <td>0.0</td>\n",
       "      <td>1.0</td>\n",
       "      <td>Sales</td>\n",
       "      <td>Junior</td>\n",
       "      <td>Sales-Junior</td>\n",
       "      <td>39692.307692</td>\n",
       "    </tr>\n",
       "    <tr>\n",
       "      <th>4</th>\n",
       "      <td>Male</td>\n",
       "      <td>Master's</td>\n",
       "      <td>Director</td>\n",
       "      <td>20.0</td>\n",
       "      <td>200000.0</td>\n",
       "      <td>1.0</td>\n",
       "      <td>2.0</td>\n",
       "      <td>General</td>\n",
       "      <td>Director</td>\n",
       "      <td>General-Director</td>\n",
       "      <td>200000.000000</td>\n",
       "    </tr>\n",
       "  </tbody>\n",
       "</table>\n",
       "</div>"
      ],
      "text/plain": [
       "   Gender Education Level          Job Title  Years of Experience    Salary  \\\n",
       "0    Male      Bachelor's  Software Engineer                  5.0   90000.0   \n",
       "1  Female        Master's       Data Analyst                  3.0   65000.0   \n",
       "2    Male             PhD     Senior Manager                 15.0  150000.0   \n",
       "3  Female      Bachelor's    Sales Associate                  7.0   60000.0   \n",
       "4    Male        Master's           Director                 20.0  200000.0   \n",
       "\n",
       "   Gender_Male  Education Level Encoded Department     Level  \\\n",
       "0          1.0                      1.0         IT       SME   \n",
       "1          0.0                      2.0         IT       SME   \n",
       "2          1.0                      3.0    General   Manager   \n",
       "3          0.0                      1.0      Sales    Junior   \n",
       "4          1.0                      2.0    General  Director   \n",
       "\n",
       "   Department_Level  Department_Level_Target_Encoded  \n",
       "0            IT-SME                    113559.920956  \n",
       "1            IT-SME                    113559.920956  \n",
       "2   General-Manager                    115714.285714  \n",
       "3      Sales-Junior                     39692.307692  \n",
       "4  General-Director                    200000.000000  "
      ]
     },
     "execution_count": 59,
     "metadata": {},
     "output_type": "execute_result"
    }
   ],
   "source": [
    "df_encoded.head()"
   ]
  },
  {
   "cell_type": "code",
   "execution_count": 60,
   "metadata": {},
   "outputs": [
    {
     "data": {
      "text/plain": [
       "Index(['Gender', 'Education Level', 'Job Title', 'Years of Experience',\n",
       "       'Salary', 'Gender_Male', 'Education Level Encoded', 'Department',\n",
       "       'Level', 'Department_Level', 'Department_Level_Target_Encoded'],\n",
       "      dtype='object')"
      ]
     },
     "execution_count": 60,
     "metadata": {},
     "output_type": "execute_result"
    }
   ],
   "source": [
    "df_encoded.columns"
   ]
  },
  {
   "cell_type": "code",
   "execution_count": 61,
   "metadata": {},
   "outputs": [],
   "source": [
    "from sklearn.model_selection import train_test_split\n",
    "\n",
    "y = df_encoded.Salary\n",
    "X = df_encoded[['Years of Experience', 'Gender_Male', 'Education Level Encoded', 'Department_Level_Target_Encoded']]\n",
    "\n",
    "X_train, X_test, y_train, y_test = train_test_split(X,y, test_size=0.3, random_state=42)"
   ]
  },
  {
   "cell_type": "code",
   "execution_count": 62,
   "metadata": {},
   "outputs": [
    {
     "data": {
      "image/png": "[encoded data removed]",
      "text/plain": [
       "<Figure size 1000x800 with 2 Axes>"
      ]
     },
     "metadata": {},
     "output_type": "display_data"
    }
   ],
   "source": [
    "# Calculate the correlation matrix\n",
    "correlation_matrix = X.corr()\n",
    "\n",
    "# Create the heatmap using seaborn\n",
    "plt.figure(figsize=(10, 8))  # Adjust the figure size as needed\n",
    "sns.heatmap(correlation_matrix, annot=True, cmap='CMRmap', fmt=\".2f\", linewidths=0.5)\n",
    "plt.title(\"Correlation between Independent Variables\")\n",
    "plt.show()"
   ]
  },
  {
   "cell_type": "code",
   "execution_count": 63,
   "metadata": {},
   "outputs": [
    {
     "name": "stdout",
     "output_type": "stream",
     "text": [
      "                          Variable        VIF\n",
      "0                            const  11.774457\n",
      "1              Years of Experience   1.685389\n",
      "2                      Gender_Male   1.010313\n",
      "3          Education Level Encoded   1.568552\n",
      "4  Department_Level_Target_Encoded   1.728598\n"
     ]
    }
   ],
   "source": [
    "from statsmodels.stats.outliers_influence import variance_inflation_factor\n",
    "from statsmodels.tools.tools import add_constant\n",
    "\n",
    "# Add a constant column to the DataFrame (required for VIF calculation)\n",
    "X_with_const = add_constant(X_train)\n",
    "\n",
    "# Calculate VIF for each independent variable\n",
    "vif_values = pd.DataFrame()\n",
    "vif_values[\"Variable\"] = X_with_const.columns\n",
    "vif_values[\"VIF\"] = [variance_inflation_factor(X_with_const.values, i) for i in range(X_with_const.shape[1])]\n",
    "\n",
    "# Display the VIF values\n",
    "print(vif_values)\n"
   ]
  },
  {
   "cell_type": "code",
   "execution_count": 64,
   "metadata": {},
   "outputs": [
    {
     "name": "stdout",
     "output_type": "stream",
     "text": [
      "Years of Experience                0.826882\n",
      "Gender_Male                        0.110262\n",
      "Education Level Encoded            0.608799\n",
      "Department_Level_Target_Encoded    0.720228\n",
      "dtype: float64\n"
     ]
    }
   ],
   "source": [
    "# Calculate the correlation between each feature and the target variable\n",
    "correlation_with_target = X.corrwith(y)\n",
    "\n",
    "# Print the correlation results\n",
    "print(correlation_with_target)"
   ]
  },
  {
   "cell_type": "code",
   "execution_count": 65,
   "metadata": {},
   "outputs": [],
   "source": [
    "from sklearn.linear_model import LinearRegression\n",
    "\n",
    "# Create an instance of the LinearRegression model\n",
    "lin_reg = LinearRegression()\n",
    "\n",
    "# Fit the model to the training data\n",
    "lin_reg.fit(X_train, y_train)\n",
    "\n",
    "# Predict on testing data\n",
    "prediction = lin_reg.predict(X_test)"
   ]
  },
  {
   "cell_type": "code",
   "execution_count": 1,
   "metadata": {},
   "outputs": [],
   "source": [
    "from sklearn.metrics import mean_squared_error, r2_score\n",
    "import numpy as np\n",
    "\n",
    "def evaluation(y, predictions):\n",
    "    mse = mean_squared_error(y, predictions)\n",
    "    rmse = np.sqrt(mse) \n",
    "    r_squared = r2_score(y, predictions)\n",
    "    return mse, rmse, r_squared"
   ]
  },
  {
   "cell_type": "code",
   "execution_count": 68,
   "metadata": {},
   "outputs": [
    {
     "name": "stdout",
     "output_type": "stream",
     "text": [
      "MAE: 18455.538184492507\n",
      "R2 Score: 0.7800327688973729\n"
     ]
    }
   ],
   "source": [
    "from sklearn.linear_model import LinearRegression\n",
    "\n",
    "lin_reg = LinearRegression()\n",
    "lin_reg.fit(X_train, y_train)\n",
    "prediction = lin_reg.predict(X_test)\n",
    "\n",
    "mae,r_squared = evaluation(y_test, prediction)\n",
    "\n",
    "print(\"MAE:\", mae)\n",
    "print(\"R2 Score:\", r_squared)\n",
    "\n",
    "new_row = {\"Model\": \"LinearRegression\",\"MAE\": mae , \"R2 Score\": r_squared}\n"
   ]
  },
  {
   "cell_type": "code",
   "execution_count": 69,
   "metadata": {},
   "outputs": [
    {
     "name": "stdout",
     "output_type": "stream",
     "text": [
      "                            OLS Regression Results                            \n",
      "==============================================================================\n",
      "Dep. Variable:                 Salary   R-squared:                       0.785\n",
      "Model:                            OLS   Adj. R-squared:                  0.784\n",
      "Method:                 Least Squares   F-statistic:                     1116.\n",
      "Date:                Thu, 10 Aug 2023   Prob (F-statistic):               0.00\n",
      "Time:                        03:47:23   Log-Likelihood:                -14107.\n",
      "No. Observations:                1229   AIC:                         2.822e+04\n",
      "Df Residuals:                    1224   BIC:                         2.825e+04\n",
      "Df Model:                           4                                         \n",
      "Covariance Type:            nonrobust                                         \n",
      "===================================================================================================\n",
      "                                      coef    std err          t      P>|t|      [0.025      0.975]\n",
      "---------------------------------------------------------------------------------------------------\n",
      "const                            8329.5940   2293.531      3.632      0.000    3829.906    1.28e+04\n",
      "Years of Experience              4506.5811    135.463     33.268      0.000    4240.816    4772.346\n",
      "Gender_Male                      3356.5008   1348.790      2.489      0.013     710.304    6002.698\n",
      "Education Level Encoded          7689.8046    992.202      7.750      0.000    5743.199    9636.410\n",
      "Department_Level_Target_Encoded     0.4384      0.024     18.172      0.000       0.391       0.486\n",
      "==============================================================================\n",
      "Omnibus:                      200.621   Durbin-Watson:                   2.038\n",
      "Prob(Omnibus):                  0.000   Jarque-Bera (JB):              419.987\n",
      "Skew:                           0.943   Prob(JB):                     6.32e-92\n",
      "Kurtosis:                       5.155   Cond. No.                     4.13e+05\n",
      "==============================================================================\n",
      "\n",
      "Notes:\n",
      "[1] Standard Errors assume that the covariance matrix of the errors is correctly specified.\n",
      "[2] The condition number is large, 4.13e+05. This might indicate that there are\n",
      "strong multicollinearity or other numerical problems.\n"
     ]
    }
   ],
   "source": [
    "import statsmodels.api as sm\n",
    "\n",
    "# Add a constant term to the predictors (X) for the intercept\n",
    "X_with_intercept = sm.add_constant(X_train)\n",
    "\n",
    "# Fit the linear regression model using statsmodels\n",
    "model = sm.OLS(y_train, X_with_intercept)\n",
    "results = model.fit()\n",
    "\n",
    "# Display the summary of the model\n",
    "print(results.summary())\n"
   ]
  },
  {
   "cell_type": "code",
   "execution_count": 548,
   "metadata": {},
   "outputs": [
    {
     "name": "stdout",
     "output_type": "stream",
     "text": [
      "Trained model saved as a pickle file: linear_regression_model.pkl\n"
     ]
    }
   ],
   "source": [
    "import pickle\n",
    "\n",
    "# 'lin_reg' is the trained LinearRegression model\n",
    "model_filename = 'linear_regression_model.pkl'\n",
    "\n",
    "# Save the trained model to a pickle file\n",
    "with open(model_filename, 'wb') as file:\n",
    "    pickle.dump(lin_reg, file)\n",
    "\n",
    "print(\"Trained model saved as a pickle file:\", model_filename)\n"
   ]
  },
  {
   "cell_type": "code",
   "execution_count": 549,
   "metadata": {},
   "outputs": [],
   "source": [
    "# Generate random values for the independent variables\n",
    "num_samples = 5  # Number of new data points to simulate\n",
    "random_years_of_experience = np.random.randint(1, 30, num_samples)  # Random integers between 1 and 30\n",
    "random_gender_male = np.random.randint(0, 2, num_samples)  # Random 0 or 1\n",
    "random_education_level_encoded = np.random.randint(0, 4, num_samples)  # Random integers between 0 and 3\n",
    "random_department_level_target_encoded = np.random.randint(0, 250000, num_samples)  # Random integers between 0 and 250000\n",
    "\n",
    "# Create a DataFrame with the random IVs\n",
    "random_ivs_df = pd.DataFrame({\n",
    "    'Years of Experience': random_years_of_experience,\n",
    "    'Gender_Male': random_gender_male,\n",
    "    'Education Level Encoded': random_education_level_encoded,\n",
    "    'Department_Level_Target_Encoded': random_department_level_target_encoded\n",
    "})"
   ]
  },
  {
   "cell_type": "code",
   "execution_count": 550,
   "metadata": {},
   "outputs": [
    {
     "data": {
      "text/html": [
       "<div>\n",
       "<style scoped>\n",
       "    .dataframe tbody tr th:only-of-type {\n",
       "        vertical-align: middle;\n",
       "    }\n",
       "\n",
       "    .dataframe tbody tr th {\n",
       "        vertical-align: top;\n",
       "    }\n",
       "\n",
       "    .dataframe thead th {\n",
       "        text-align: right;\n",
       "    }\n",
       "</style>\n",
       "<table border=\"1\" class=\"dataframe\">\n",
       "  <thead>\n",
       "    <tr style=\"text-align: right;\">\n",
       "      <th></th>\n",
       "      <th>Years of Experience</th>\n",
       "      <th>Gender_Male</th>\n",
       "      <th>Education Level Encoded</th>\n",
       "      <th>Department_Level_Target_Encoded</th>\n",
       "    </tr>\n",
       "  </thead>\n",
       "  <tbody>\n",
       "    <tr>\n",
       "      <th>0</th>\n",
       "      <td>10</td>\n",
       "      <td>1</td>\n",
       "      <td>3</td>\n",
       "      <td>11394</td>\n",
       "    </tr>\n",
       "    <tr>\n",
       "      <th>1</th>\n",
       "      <td>28</td>\n",
       "      <td>1</td>\n",
       "      <td>2</td>\n",
       "      <td>69092</td>\n",
       "    </tr>\n",
       "    <tr>\n",
       "      <th>2</th>\n",
       "      <td>28</td>\n",
       "      <td>0</td>\n",
       "      <td>3</td>\n",
       "      <td>3890</td>\n",
       "    </tr>\n",
       "    <tr>\n",
       "      <th>3</th>\n",
       "      <td>16</td>\n",
       "      <td>1</td>\n",
       "      <td>3</td>\n",
       "      <td>41606</td>\n",
       "    </tr>\n",
       "    <tr>\n",
       "      <th>4</th>\n",
       "      <td>15</td>\n",
       "      <td>0</td>\n",
       "      <td>0</td>\n",
       "      <td>227348</td>\n",
       "    </tr>\n",
       "  </tbody>\n",
       "</table>\n",
       "</div>"
      ],
      "text/plain": [
       "   Years of Experience  Gender_Male  Education Level Encoded  \\\n",
       "0                   10            1                        3   \n",
       "1                   28            1                        2   \n",
       "2                   28            0                        3   \n",
       "3                   16            1                        3   \n",
       "4                   15            0                        0   \n",
       "\n",
       "   Department_Level_Target_Encoded  \n",
       "0                            11394  \n",
       "1                            69092  \n",
       "2                             3890  \n",
       "3                            41606  \n",
       "4                           227348  "
      ]
     },
     "execution_count": 550,
     "metadata": {},
     "output_type": "execute_result"
    }
   ],
   "source": [
    "random_ivs_df.head()"
   ]
  },
  {
   "cell_type": "code",
   "execution_count": 551,
   "metadata": {},
   "outputs": [
    {
     "data": {
      "text/html": [
       "<div>\n",
       "<style scoped>\n",
       "    .dataframe tbody tr th:only-of-type {\n",
       "        vertical-align: middle;\n",
       "    }\n",
       "\n",
       "    .dataframe tbody tr th {\n",
       "        vertical-align: top;\n",
       "    }\n",
       "\n",
       "    .dataframe thead th {\n",
       "        text-align: right;\n",
       "    }\n",
       "</style>\n",
       "<table border=\"1\" class=\"dataframe\">\n",
       "  <thead>\n",
       "    <tr style=\"text-align: right;\">\n",
       "      <th></th>\n",
       "      <th>Years of Experience</th>\n",
       "      <th>Gender_Male</th>\n",
       "      <th>Education Level Encoded</th>\n",
       "      <th>Department_Level_Target_Encoded</th>\n",
       "      <th>Predicted Salary</th>\n",
       "    </tr>\n",
       "  </thead>\n",
       "  <tbody>\n",
       "    <tr>\n",
       "      <th>0</th>\n",
       "      <td>10</td>\n",
       "      <td>1</td>\n",
       "      <td>3</td>\n",
       "      <td>11394</td>\n",
       "      <td>84816.534695</td>\n",
       "    </tr>\n",
       "    <tr>\n",
       "      <th>1</th>\n",
       "      <td>28</td>\n",
       "      <td>1</td>\n",
       "      <td>2</td>\n",
       "      <td>69092</td>\n",
       "      <td>183540.427597</td>\n",
       "    </tr>\n",
       "    <tr>\n",
       "      <th>2</th>\n",
       "      <td>28</td>\n",
       "      <td>0</td>\n",
       "      <td>3</td>\n",
       "      <td>3890</td>\n",
       "      <td>159288.683203</td>\n",
       "    </tr>\n",
       "    <tr>\n",
       "      <th>3</th>\n",
       "      <td>16</td>\n",
       "      <td>1</td>\n",
       "      <td>3</td>\n",
       "      <td>41606</td>\n",
       "      <td>125101.189650</td>\n",
       "    </tr>\n",
       "    <tr>\n",
       "      <th>4</th>\n",
       "      <td>15</td>\n",
       "      <td>0</td>\n",
       "      <td>0</td>\n",
       "      <td>227348</td>\n",
       "      <td>175599.386612</td>\n",
       "    </tr>\n",
       "  </tbody>\n",
       "</table>\n",
       "</div>"
      ],
      "text/plain": [
       "   Years of Experience  Gender_Male  Education Level Encoded  \\\n",
       "0                   10            1                        3   \n",
       "1                   28            1                        2   \n",
       "2                   28            0                        3   \n",
       "3                   16            1                        3   \n",
       "4                   15            0                        0   \n",
       "\n",
       "   Department_Level_Target_Encoded  Predicted Salary  \n",
       "0                            11394      84816.534695  \n",
       "1                            69092     183540.427597  \n",
       "2                             3890     159288.683203  \n",
       "3                            41606     125101.189650  \n",
       "4                           227348     175599.386612  "
      ]
     },
     "execution_count": 551,
     "metadata": {},
     "output_type": "execute_result"
    }
   ],
   "source": [
    "# Load the trained model from the pickle file\n",
    "model_filename = 'linear_regression_model.pkl'\n",
    "with open(model_filename, 'rb') as file:\n",
    "    loaded_model = pickle.load(file)\n",
    "\n",
    "# Use the loaded model to predict the target variable (Salary) based on the random IVs\n",
    "predictions = loaded_model.predict(random_ivs_df)\n",
    "\n",
    "# Create a DataFrame with the random IVs and the predictions\n",
    "result_df = random_ivs_df.copy()\n",
    "result_df['Predicted Salary'] = predictions\n",
    "\n",
    "# Display the result DataFrame\n",
    "result_df.head()\n"
   ]
  }
 ],
 "metadata": {
  "kernelspec": {
   "display_name": "Python 3",
   "language": "python",
   "name": "python3"
  },
  "language_info": {
   "codemirror_mode": {
    "name": "ipython",
    "version": 3
   },
   "file_extension": ".py",
   "mimetype": "text/x-python",
   "name": "python",
   "nbconvert_exporter": "python",
   "pygments_lexer": "ipython3",
   "version": "3.11.3"
  },
  "orig_nbformat": 4
 },
 "nbformat": 4,
 "nbformat_minor": 2
}
